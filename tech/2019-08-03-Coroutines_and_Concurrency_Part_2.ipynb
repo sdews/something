{
 "cells": [
  {
   "cell_type": "markdown",
   "metadata": {},
   "source": [
    "# A Curious Course on Coroutines and Concurrency "
   ]
  },
  {
   "cell_type": "markdown",
   "metadata": {},
   "source": [
    "## Disclaimers\n",
    "\n",
    "- All content of this jupyter notebook are referred to **David Beazley's [slide](http://117.128.6.29/cache/www.dabeaz.com/coroutines/Coroutines.pdf?ich_args2=526-03152400039188_616107d40934da0c48d67a98c79844af_10001002_9c896228dfc2f6d19f32518939a83798_460d1e2e54e6fd2148466980ccb734cb)**.\n",
    "\n",
    "\n",
    "- I made some revisions in order to run correctly.\n",
    "\n",
    "\n",
    "- Please run in Python3."
   ]
  },
  {
   "cell_type": "markdown",
   "metadata": {},
   "source": [
    "## Part 2 Coroutines, Pipelines, and Dataflow"
   ]
  },
  {
   "cell_type": "markdown",
   "metadata": {},
   "source": [
    "### 2.1. Processing Pipelines\n",
    "\n",
    "- Coroutines can be used to set up pipes\n",
    "\n",
    "- You just chain coroutines together and push data through the pipe with send() operations\n",
    "\n",
    "![img](img/processing_pipelines.png)"
   ]
  },
  {
   "cell_type": "markdown",
   "metadata": {},
   "source": [
    "### 2.2. Pipelines Sources\n",
    "\n",
    "- The pipline needs an initial source(a producer)\n",
    "\n",
    "  ![img](img/pipline_sources.png)\n",
    "  \n",
    "\n",
    "- The source drives the entire pipeline\n",
    "\n",
    "  ```\n",
    "  def source(target):\n",
    "      while not done:\n",
    "          item = produce_an_item()\n",
    "          ...\n",
    "          target.send(item)\n",
    "          ...\n",
    "      target.close()        \n",
    "  ```\n",
    "  \n",
    "\n",
    "- It is typically not a coroutine"
   ]
  },
  {
   "cell_type": "markdown",
   "metadata": {},
   "source": [
    "### 2.3. Pipeline Sinks\n",
    "\n",
    "- The pipline must have an end-point(sink)\n",
    "  ![img](img/pipline_sinks.png)\n",
    "\n",
    "- Collects all data sent to it and processes it\n",
    "\n",
    "```\n",
    "@coroutine\n",
    "def sink():\n",
    "    try:\n",
    "        while True:\n",
    "            item = (yield)  # Receive an item\n",
    "            ...\n",
    "     except GeneratorExit:\n",
    "         # Done\n",
    "         ...\n",
    "```"
   ]
  },
  {
   "cell_type": "markdown",
   "metadata": {},
   "source": [
    "### 2.3. An Example\n",
    "\n",
    "- A picture\n",
    "  ![img](img/a_example_source_sink.png)\n",
    "  \n",
    "- Critical point\n",
    "  \n",
    "  follow() is driving the entire computation by reading lines and pushing them into the printer() coroutine."
   ]
  },
  {
   "cell_type": "code",
   "execution_count": 40,
   "metadata": {},
   "outputs": [],
   "source": [
    "def coroutine(func):\n",
    "    def start(*args, **kwargs):\n",
    "        cor = func(*args, **kwargs)\n",
    "        next(cor)\n",
    "        return cor\n",
    "    return start"
   ]
  },
  {
   "cell_type": "code",
   "execution_count": 39,
   "metadata": {},
   "outputs": [
    {
     "name": "stdout",
     "output_type": "stream",
     "text": [
      "curr_pos: 17\n",
      "It is summer day\n",
      "\n",
      "curr_pos: 51\n",
      "I am studying Coroutine in Python\n",
      "\n",
      "curr_pos: 76\n",
      "Hi, ladies and gentlemen\n",
      "\n",
      "curr_pos: 76\n",
      "Going away. Goodbye\n"
     ]
    }
   ],
   "source": [
    "import time\n",
    "\n",
    "def follow(thefile, target):\n",
    "    \"\"\" A source that mimics Unix 'tail -f' \"\"\"\n",
    "    # Go to the end of thefile\n",
    "    thefile.seek(0)\n",
    "    while True:\n",
    "        line = thefile.readline()\n",
    "        curr_pos = thefile.tell()\n",
    "        print(\"curr_pos:\", curr_pos)\n",
    "        if not line:\n",
    "            # time.sleep(0.1)\n",
    "            # continue\n",
    "            break\n",
    "        target.send(line)\n",
    "        \n",
    "@coroutine\n",
    "def printer():\n",
    "    \"\"\" A sin that just prints the lines \"\"\"\n",
    "    try:\n",
    "        while True:\n",
    "            line = (yield)\n",
    "            print(line)\n",
    "    except GeneratorExit:\n",
    "        print(\"Going away. Goodbye\")\n",
    "\n",
    "\n",
    "# Hooking it together\n",
    "with open(\"access-log\") as f:\n",
    "    follow(f, printer())"
   ]
  },
  {
   "cell_type": "markdown",
   "metadata": {},
   "source": [
    "### 2.3. Pipeline Filters\n",
    "\n",
    "- Intermediate stages both receive and send\n",
    "\n",
    "\n",
    "- Tyically perform some kind of data transformation, filtering, routing, etc.\n",
    "\n",
    "```\n",
    "@coroutine\n",
    "def filter(target):\n",
    "    while True:\n",
    "        item = (yield)  # Receive an item\n",
    "        # Transform/filter item\n",
    "        ...\n",
    "        # Send it along to the next stage\n",
    "        target.send(item)\n",
    "```"
   ]
  },
  {
   "cell_type": "code",
   "execution_count": null,
   "metadata": {},
   "outputs": [],
   "source": []
  }
 ],
 "metadata": {
  "kernelspec": {
   "display_name": "Python 3",
   "language": "python",
   "name": "python3"
  },
  "language_info": {
   "codemirror_mode": {
    "name": "ipython",
    "version": 3
   },
   "file_extension": ".py",
   "mimetype": "text/x-python",
   "name": "python",
   "nbconvert_exporter": "python",
   "pygments_lexer": "ipython3",
   "version": "3.5.2"
  }
 },
 "nbformat": 4,
 "nbformat_minor": 2
}
