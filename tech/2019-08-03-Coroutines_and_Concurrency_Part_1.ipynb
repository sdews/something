{
 "cells": [
  {
   "cell_type": "markdown",
   "metadata": {},
   "source": [
    "# A Curious Course on Coroutines and Concurrency \n",
    "\n",
    "David Beazley\n",
    "\n",
    "http://www.dabeaz.com\n",
    "\n",
    "Presented at PyCon'2009, Chicago, Illinois"
   ]
  },
  {
   "cell_type": "markdown",
   "metadata": {},
   "source": [
    "## Part １ Introduction to Generators and Coroutines"
   ]
  },
  {
   "cell_type": "markdown",
   "metadata": {},
   "source": [
    "### 1.1 Generators\n",
    "\n",
    "   - A generator is a function that produces a sequence of results instead of a single value\n",
    "\n",
    "   - Instead of returning a value, you generate a series of values (using the yield statement)\n",
    "\n",
    "   - Typically, you hook it up to a for-loop"
   ]
  },
  {
   "cell_type": "code",
   "execution_count": 12,
   "metadata": {},
   "outputs": [],
   "source": [
    "def countdown(n):\n",
    "    while n > 0:\n",
    "        yield n\n",
    "        n -= 1"
   ]
  },
  {
   "cell_type": "code",
   "execution_count": 13,
   "metadata": {},
   "outputs": [
    {
     "name": "stdout",
     "output_type": "stream",
     "text": [
      "5\n",
      "4\n",
      "3\n",
      "2\n",
      "1\n"
     ]
    }
   ],
   "source": [
    "for i in countdown(5):\n",
    "    print(i)"
   ]
  },
  {
   "cell_type": "markdown",
   "metadata": {},
   "source": [
    "### 1.2 Generators\n",
    "　 \n",
    "   - Behavior is quite different than normal func\n",
    "   \n",
    "   - Calling a generator function creates an generator object. However, it does **not** start running the function."
   ]
  },
  {
   "cell_type": "code",
   "execution_count": 18,
   "metadata": {},
   "outputs": [],
   "source": [
    "def countdown(n):\n",
    "    print(\"Counting down from\", n)\n",
    "    while n > 0:\n",
    "        yield n\n",
    "        n -= 1"
   ]
  },
  {
   "cell_type": "code",
   "execution_count": 19,
   "metadata": {},
   "outputs": [],
   "source": [
    "# Note that no output was produced\n",
    "x = countdown(5)"
   ]
  },
  {
   "cell_type": "code",
   "execution_count": 20,
   "metadata": {},
   "outputs": [
    {
     "data": {
      "text/plain": [
       "<generator object countdown at 0x7f8a10d48410>"
      ]
     },
     "execution_count": 20,
     "metadata": {},
     "output_type": "execute_result"
    }
   ],
   "source": [
    "x"
   ]
  },
  {
   "cell_type": "markdown",
   "metadata": {},
   "source": [
    "### 1.3. Generator Functions\n",
    "\n",
    "- The function only executes on next()\n",
    "\n",
    "- yield produces a value, but suspends the function\n",
    "\n",
    "- Function resumes on next call to next()\n",
    "\n",
    "- When the generator returns, iteration stops"
   ]
  },
  {
   "cell_type": "code",
   "execution_count": 46,
   "metadata": {},
   "outputs": [],
   "source": [
    "x = countdown(3)"
   ]
  },
  {
   "cell_type": "code",
   "execution_count": 47,
   "metadata": {},
   "outputs": [
    {
     "data": {
      "text/plain": [
       "<generator object countdown at 0x7f8a104868e0>"
      ]
     },
     "execution_count": 47,
     "metadata": {},
     "output_type": "execute_result"
    }
   ],
   "source": [
    "x"
   ]
  },
  {
   "cell_type": "code",
   "execution_count": 54,
   "metadata": {},
   "outputs": [
    {
     "ename": "StopIteration",
     "evalue": "",
     "output_type": "error",
     "traceback": [
      "\u001b[0;31m---------------------------------------------------------------------------\u001b[0m",
      "\u001b[0;31mStopIteration\u001b[0m                             Traceback (most recent call last)",
      "\u001b[0;32m<ipython-input-54-d17074ec5c09>\u001b[0m in \u001b[0;36m<module>\u001b[0;34m()\u001b[0m\n\u001b[1;32m      1\u001b[0m \u001b[0;31m# Function starts executing here\u001b[0m\u001b[0;34m\u001b[0m\u001b[0;34m\u001b[0m\u001b[0m\n\u001b[0;32m----> 2\u001b[0;31m \u001b[0mnext\u001b[0m\u001b[0;34m(\u001b[0m\u001b[0mx\u001b[0m\u001b[0;34m)\u001b[0m\u001b[0;34m\u001b[0m\u001b[0m\n\u001b[0m",
      "\u001b[0;31mStopIteration\u001b[0m: "
     ]
    }
   ],
   "source": [
    "# Function starts executing here\n",
    "next(x)"
   ]
  },
  {
   "cell_type": "code",
   "execution_count": 49,
   "metadata": {},
   "outputs": [
    {
     "data": {
      "text/plain": [
       "2"
      ]
     },
     "execution_count": 49,
     "metadata": {},
     "output_type": "execute_result"
    }
   ],
   "source": [
    "next(x)"
   ]
  },
  {
   "cell_type": "code",
   "execution_count": 50,
   "metadata": {},
   "outputs": [
    {
     "data": {
      "text/plain": [
       "1"
      ]
     },
     "execution_count": 50,
     "metadata": {},
     "output_type": "execute_result"
    }
   ],
   "source": [
    "next(x)"
   ]
  },
  {
   "cell_type": "code",
   "execution_count": 51,
   "metadata": {},
   "outputs": [
    {
     "ename": "StopIteration",
     "evalue": "",
     "output_type": "error",
     "traceback": [
      "\u001b[0;31m---------------------------------------------------------------------------\u001b[0m",
      "\u001b[0;31mStopIteration\u001b[0m                             Traceback (most recent call last)",
      "\u001b[0;32m<ipython-input-51-92de4e9f6b1e>\u001b[0m in \u001b[0;36m<module>\u001b[0;34m()\u001b[0m\n\u001b[0;32m----> 1\u001b[0;31m \u001b[0mnext\u001b[0m\u001b[0;34m(\u001b[0m\u001b[0mx\u001b[0m\u001b[0;34m)\u001b[0m\u001b[0;34m\u001b[0m\u001b[0m\n\u001b[0m",
      "\u001b[0;31mStopIteration\u001b[0m: "
     ]
    }
   ],
   "source": [
    "next(x)"
   ]
  },
  {
   "cell_type": "markdown",
   "metadata": {},
   "source": [
    "### 1.4. A Practical Example"
   ]
  },
  {
   "cell_type": "code",
   "execution_count": 73,
   "metadata": {},
   "outputs": [],
   "source": [
    "# A Python version of Unix 'tail -f'\n",
    "\n",
    "import time\n",
    "\n",
    "def follow(thefile):\n",
    "    # thefile.seek(0, 2)\n",
    "    while True:\n",
    "        line = thefile.readline()\n",
    "        if not line:\n",
    "            break\n",
    "            # time.sleep(0.1)\n",
    "            # continue\n",
    "        yield line"
   ]
  },
  {
   "cell_type": "code",
   "execution_count": 74,
   "metadata": {},
   "outputs": [],
   "source": [
    "!echo \"It is summer day\\nI am studying Coroutine in Python\\nHi, ladies and gentlemen\" > access-log"
   ]
  },
  {
   "cell_type": "code",
   "execution_count": 75,
   "metadata": {},
   "outputs": [
    {
     "name": "stdout",
     "output_type": "stream",
     "text": [
      "It is summer day\r\n",
      "I am studying Coroutine in Python\r\n",
      "Hi, ladies and gentlemen\r\n"
     ]
    }
   ],
   "source": [
    "!cat access-log"
   ]
  },
  {
   "cell_type": "code",
   "execution_count": 76,
   "metadata": {},
   "outputs": [
    {
     "name": "stdout",
     "output_type": "stream",
     "text": [
      "It is summer day\n",
      "\n",
      "I am studying Coroutine in Python\n",
      "\n",
      "Hi, ladies and gentlemen\n",
      "\n"
     ]
    }
   ],
   "source": [
    "with open(\"access-log\", \"r\") as f:\n",
    "    for line in follow(f):\n",
    "        print(line)"
   ]
  },
  {
   "cell_type": "markdown",
   "metadata": {},
   "source": [
    "### 1.5. Generators as Pipelines\n",
    "\n",
    "- One of the most powerful applications of generators is setting up processing pipelines\n",
    "\n",
    "\n",
    "- Similar to shell pipes in Unix\n",
    "  \n",
    "  input sequeence --> generator1 --> generator2 --> generator3\n",
    "  --> for x in s:\n",
    "  \n",
    "  \n",
    "- Idea: You can stack a series of generator functions together into a pipe and pull items through it with a for-loop\n",
    "  "
   ]
  },
  {
   "cell_type": "code",
   "execution_count": 83,
   "metadata": {},
   "outputs": [
    {
     "name": "stdout",
     "output_type": "stream",
     "text": [
      "I am studying Coroutine in Python\n",
      "\n"
     ]
    }
   ],
   "source": [
    "# A Pipeline Example\n",
    "# Print all server log entries containing 'Python'\n",
    "\n",
    "def grep(pattern, lines):\n",
    "    for line in lines:\n",
    "        if pattern in line:\n",
    "            yield line\n",
    "\n",
    "# Set up a processing pipe: tail -f | grep python\n",
    "with open(\"access-log\", \"r\") as logfile:\n",
    "    loglines = follow(logfile)\n",
    "    greplines = grep(\"Python\", loglines)\n",
    "    for line in greplines:\n",
    "        print(line)"
   ]
  },
  {
   "cell_type": "markdown",
   "metadata": {},
   "source": [
    "### 1.6. Yield as an Expression \n",
    "\n",
    "- In Python 2.5, a slight modification to the yield　statement was introduced (PEP-342)\n",
    "\n",
    "\n",
    "- You could now use yield as an *expression*\n",
    "\n",
    "\n",
    "- For example, on the right side of an assignment"
   ]
  },
  {
   "cell_type": "code",
   "execution_count": 85,
   "metadata": {},
   "outputs": [],
   "source": [
    "def grep(pattern):\n",
    "    print(\"Looking for %s\" % pattern)\n",
    "    while True:\n",
    "        line = (yield)\n",
    "        if pattern in line:\n",
    "            print(line)"
   ]
  },
  {
   "cell_type": "markdown",
   "metadata": {},
   "source": [
    "### 1.7. Coroutines\n",
    "\n",
    "\n",
    "- If If you use yield more generally, you get a coroutine\n",
    "\n",
    "\n",
    "- These do more than just generate values\n",
    "\n",
    "\n",
    "- Instead, functions can consume values **sent** to it\n",
    "\n",
    "\n",
    "- Sent values are returned by (yield)"
   ]
  },
  {
   "cell_type": "code",
   "execution_count": 86,
   "metadata": {},
   "outputs": [],
   "source": [
    "g = grep(\"python\")  # Notice that no output was produced"
   ]
  },
  {
   "cell_type": "code",
   "execution_count": 87,
   "metadata": {},
   "outputs": [
    {
     "data": {
      "text/plain": [
       "<generator object grep at 0x7f89fb390b48>"
      ]
     },
     "execution_count": 87,
     "metadata": {},
     "output_type": "execute_result"
    }
   ],
   "source": [
    "g"
   ]
  },
  {
   "cell_type": "code",
   "execution_count": 88,
   "metadata": {},
   "outputs": [
    {
     "name": "stdout",
     "output_type": "stream",
     "text": [
      "Looking for python\n"
     ]
    }
   ],
   "source": [
    "next(g)  # On first operation, coroutine starts running"
   ]
  },
  {
   "cell_type": "code",
   "execution_count": 89,
   "metadata": {},
   "outputs": [],
   "source": [
    "g.send(\"Hi, I am Summer\")"
   ]
  },
  {
   "cell_type": "code",
   "execution_count": 90,
   "metadata": {},
   "outputs": [
    {
     "name": "stdout",
     "output_type": "stream",
     "text": [
      "I am studing python now\n"
     ]
    }
   ],
   "source": [
    "g.send(\"I am studing python now\")"
   ]
  },
  {
   "cell_type": "markdown",
   "metadata": {},
   "source": [
    "### 1.8. Coroutine Execution\n",
    "\n",
    "- Execution is the same ss for a generator\n",
    "\n",
    "\n",
    "- When you call a coroutine, nothing happens\n",
    "\n",
    "\n",
    "- They only run in response to next() and send() methods\n",
    "\n",
    "```\n",
    "# Notice that no output was produced\n",
    ">> g = grep(\"python\")\n",
    "#  On first operation, coroutine starts running\n",
    ">> next(g)\n",
    "Looking for python\n",
    "```"
   ]
  },
  {
   "cell_type": "markdown",
   "metadata": {},
   "source": [
    "### 1.9. Coroutine Priming\n",
    "\n",
    "- All coroutines must be \"primed\" by first calling .next() (or send(None))\n",
    "\n",
    "\n",
    "- This advances execution to the location of the first yield expression.\n",
    "\n",
    "```\n",
    "def grep(pattern):\n",
    "    print(\"Looking for %s\" % pattern)\n",
    "    while True:\n",
    "        # next() advances the coroutine to \n",
    "        # the first yield expression (yield) \n",
    "        line = (yield)  \n",
    "        if pattern in line:\n",
    "            print(line)\n",
    "```\n",
    "\n",
    "- At this point, it's ready to receive a value"
   ]
  },
  {
   "cell_type": "markdown",
   "metadata": {},
   "source": [
    "### 1.10. Using a Decorator\n",
    "\n",
    "\n",
    "- Remembering to call .next() is easy to forget\n",
    "\n",
    "\n",
    "- Solved by wrapping coroutines with a decorator"
   ]
  },
  {
   "cell_type": "code",
   "execution_count": 91,
   "metadata": {},
   "outputs": [],
   "source": [
    "def coroutine(func):\n",
    "    def start(*args, **kwargs):\n",
    "        cr = func(*args, **kwargs)\n",
    "        next(cr)\n",
    "        return cr\n",
    "    return start\n",
    "\n",
    "@coroutine\n",
    "def grep(pattern):\n",
    "    print(\"Looking for %s\" % pattern)\n",
    "    while True:\n",
    "        line = (yield)\n",
    "        if pattern in line:\n",
    "            print(line)"
   ]
  },
  {
   "cell_type": "code",
   "execution_count": 92,
   "metadata": {},
   "outputs": [
    {
     "name": "stdout",
     "output_type": "stream",
     "text": [
      "Looking for python\n"
     ]
    }
   ],
   "source": [
    "g = grep(\"python\")"
   ]
  },
  {
   "cell_type": "code",
   "execution_count": 93,
   "metadata": {},
   "outputs": [],
   "source": [
    "g.send(\"Hi, I am Summer\")"
   ]
  },
  {
   "cell_type": "code",
   "execution_count": 94,
   "metadata": {},
   "outputs": [
    {
     "name": "stdout",
     "output_type": "stream",
     "text": [
      "I am studing coroutine in python\n"
     ]
    }
   ],
   "source": [
    "g.send(\"I am studing coroutine in python\")"
   ]
  },
  {
   "cell_type": "markdown",
   "metadata": {},
   "source": [
    "### 1.11. Closing a Coroutine\n",
    "\n",
    "- A coroutine might run indefinitely\n",
    "\n",
    "\n",
    "- Use .close() to shut it down\n",
    "\n",
    "\n",
    "- Note: Garbage collection also calls close()"
   ]
  },
  {
   "cell_type": "code",
   "execution_count": 95,
   "metadata": {},
   "outputs": [
    {
     "name": "stdout",
     "output_type": "stream",
     "text": [
      "Looking for python\n"
     ]
    }
   ],
   "source": [
    "g = grep(\"python\")"
   ]
  },
  {
   "cell_type": "code",
   "execution_count": 96,
   "metadata": {},
   "outputs": [],
   "source": [
    "g.send(\"Hi\")"
   ]
  },
  {
   "cell_type": "code",
   "execution_count": 97,
   "metadata": {},
   "outputs": [
    {
     "name": "stdout",
     "output_type": "stream",
     "text": [
      "coroutine in python\n"
     ]
    }
   ],
   "source": [
    "g.send(\"coroutine in python\")"
   ]
  },
  {
   "cell_type": "code",
   "execution_count": 98,
   "metadata": {},
   "outputs": [],
   "source": [
    "g.close()"
   ]
  },
  {
   "cell_type": "code",
   "execution_count": 99,
   "metadata": {},
   "outputs": [
    {
     "data": {
      "text/plain": [
       "<generator object grep at 0x7f89fb390f68>"
      ]
     },
     "execution_count": 99,
     "metadata": {},
     "output_type": "execute_result"
    }
   ],
   "source": [
    "g"
   ]
  },
  {
   "cell_type": "code",
   "execution_count": 100,
   "metadata": {},
   "outputs": [
    {
     "ename": "StopIteration",
     "evalue": "",
     "output_type": "error",
     "traceback": [
      "\u001b[0;31m---------------------------------------------------------------------------\u001b[0m",
      "\u001b[0;31mStopIteration\u001b[0m                             Traceback (most recent call last)",
      "\u001b[0;32m<ipython-input-100-748bf2bed69c>\u001b[0m in \u001b[0;36m<module>\u001b[0;34m()\u001b[0m\n\u001b[0;32m----> 1\u001b[0;31m \u001b[0mg\u001b[0m\u001b[0;34m.\u001b[0m\u001b[0msend\u001b[0m\u001b[0;34m(\u001b[0m\u001b[0;34m\"hi\"\u001b[0m\u001b[0;34m)\u001b[0m\u001b[0;34m\u001b[0m\u001b[0m\n\u001b[0m",
      "\u001b[0;31mStopIteration\u001b[0m: "
     ]
    }
   ],
   "source": [
    "g.send(\"hi\")"
   ]
  },
  {
   "cell_type": "markdown",
   "metadata": {},
   "source": [
    "### 1.12. Catching close()\n",
    "\n",
    "\n",
    "- close() can be caught (GeneratorExit)\n",
    "\n",
    "\n",
    "- You cannot ignore this exception\n",
    "\n",
    "\n",
    "- Only legal action is to clean up and return"
   ]
  },
  {
   "cell_type": "code",
   "execution_count": 106,
   "metadata": {},
   "outputs": [],
   "source": [
    "@coroutine\n",
    "def grep(pattern):\n",
    "    print(\"Looking for %s\" % pattern)\n",
    "    try:\n",
    "        while True:\n",
    "            line = (yield)\n",
    "            if pattern in line:\n",
    "                print(line)\n",
    "    except GeneratorExit:\n",
    "        print(\"Going away. Goodbye\")"
   ]
  },
  {
   "cell_type": "code",
   "execution_count": 107,
   "metadata": {},
   "outputs": [
    {
     "name": "stdout",
     "output_type": "stream",
     "text": [
      "Looking for python\n"
     ]
    }
   ],
   "source": [
    "g = grep(\"python\")"
   ]
  },
  {
   "cell_type": "code",
   "execution_count": 108,
   "metadata": {},
   "outputs": [
    {
     "name": "stdout",
     "output_type": "stream",
     "text": [
      "python\n"
     ]
    }
   ],
   "source": [
    "g.send(\"python\")"
   ]
  },
  {
   "cell_type": "code",
   "execution_count": 109,
   "metadata": {},
   "outputs": [
    {
     "name": "stdout",
     "output_type": "stream",
     "text": [
      "Going away. Goodbye\n"
     ]
    }
   ],
   "source": [
    "g.close()"
   ]
  },
  {
   "cell_type": "markdown",
   "metadata": {},
   "source": [
    "### 1.13. Throwing an Exception\n",
    "\n",
    "- Exceptions can be thrown inside a coroutine\n",
    "\n",
    "\n",
    "- Exception originates at the yield expression\n",
    "\n",
    "\n",
    "- Can be caught / handled in the usual ways"
   ]
  },
  {
   "cell_type": "code",
   "execution_count": 110,
   "metadata": {},
   "outputs": [
    {
     "name": "stdout",
     "output_type": "stream",
     "text": [
      "Looking for python\n"
     ]
    }
   ],
   "source": [
    "g = grep(\"python\")"
   ]
  },
  {
   "cell_type": "code",
   "execution_count": 111,
   "metadata": {},
   "outputs": [
    {
     "name": "stdout",
     "output_type": "stream",
     "text": [
      "python rocks\n"
     ]
    }
   ],
   "source": [
    "g.send(\"python rocks\")"
   ]
  },
  {
   "cell_type": "code",
   "execution_count": 112,
   "metadata": {},
   "outputs": [
    {
     "ename": "RuntimeError",
     "evalue": "You are hosed",
     "output_type": "error",
     "traceback": [
      "\u001b[0;31m---------------------------------------------------------------------------\u001b[0m",
      "\u001b[0;31mRuntimeError\u001b[0m                              Traceback (most recent call last)",
      "\u001b[0;32m<ipython-input-112-d74bab506185>\u001b[0m in \u001b[0;36m<module>\u001b[0;34m()\u001b[0m\n\u001b[0;32m----> 1\u001b[0;31m \u001b[0mg\u001b[0m\u001b[0;34m.\u001b[0m\u001b[0mthrow\u001b[0m\u001b[0;34m(\u001b[0m\u001b[0mRuntimeError\u001b[0m\u001b[0;34m,\u001b[0m \u001b[0;34m\"You are hosed\"\u001b[0m\u001b[0;34m)\u001b[0m\u001b[0;34m\u001b[0m\u001b[0m\n\u001b[0m",
      "\u001b[0;32m<ipython-input-106-213e3c867583>\u001b[0m in \u001b[0;36mgrep\u001b[0;34m(pattern)\u001b[0m\n\u001b[1;32m      4\u001b[0m     \u001b[0;32mtry\u001b[0m\u001b[0;34m:\u001b[0m\u001b[0;34m\u001b[0m\u001b[0m\n\u001b[1;32m      5\u001b[0m         \u001b[0;32mwhile\u001b[0m \u001b[0;32mTrue\u001b[0m\u001b[0;34m:\u001b[0m\u001b[0;34m\u001b[0m\u001b[0m\n\u001b[0;32m----> 6\u001b[0;31m             \u001b[0mline\u001b[0m \u001b[0;34m=\u001b[0m \u001b[0;34m(\u001b[0m\u001b[0;32myield\u001b[0m\u001b[0;34m)\u001b[0m\u001b[0;34m\u001b[0m\u001b[0m\n\u001b[0m\u001b[1;32m      7\u001b[0m             \u001b[0;32mif\u001b[0m \u001b[0mpattern\u001b[0m \u001b[0;32min\u001b[0m \u001b[0mline\u001b[0m\u001b[0;34m:\u001b[0m\u001b[0;34m\u001b[0m\u001b[0m\n\u001b[1;32m      8\u001b[0m                 \u001b[0mprint\u001b[0m\u001b[0;34m(\u001b[0m\u001b[0mline\u001b[0m\u001b[0;34m)\u001b[0m\u001b[0;34m\u001b[0m\u001b[0m\n",
      "\u001b[0;31mRuntimeError\u001b[0m: You are hosed"
     ]
    }
   ],
   "source": [
    "g.throw(RuntimeError, \"You are hosed\")"
   ]
  },
  {
   "cell_type": "markdown",
   "metadata": {},
   "source": [
    "### 1.14. **Interlude**\n",
    "\n",
    "- Despite some similarities, Generators and coroutines are basically two different concepts\n",
    "\n",
    "\n",
    "- Generators produce values\n",
    "\n",
    "\n",
    "- Coroutines tend to consume values\n",
    "\n",
    "\n",
    "- It is easy to get sidetracked because methods meant for coroutines are sometimes described as a way to tweak generators that are in the process of producing an iteration pattern (i.e., resetting its value). This is mostly bogus."
   ]
  },
  {
   "cell_type": "markdown",
   "metadata": {},
   "source": [
    "### 1.15. A Bogus Example\n",
    "\n",
    "\n",
    "- A \"generator\" that produces **and** receives values"
   ]
  },
  {
   "cell_type": "code",
   "execution_count": 151,
   "metadata": {},
   "outputs": [],
   "source": [
    "def countdown(n):\n",
    "    print(\"Count down from %d \\n\" % n)\n",
    "    while n >= 0:\n",
    "        print(\"Into while\")\n",
    "        newvalue = (yield n)\n",
    "        print(\"newvalue is\", newvalue)\n",
    "        # if a new value got sent in, reset n with it\n",
    "        if newvalue is not None:\n",
    "            print(\"Reset n=%d to n=%d\\n\" % (n, newvalue))\n",
    "            n = newvalue\n",
    "            # print(n)\n",
    "        else:\n",
    "            print(\"n -= 1\\n\")\n",
    "            n -= 1"
   ]
  },
  {
   "cell_type": "markdown",
   "metadata": {},
   "source": [
    "- It runs, but it's \"flaky\" and hard to understand\n",
    "  \n",
    "  **Notice how a value got \"lost\" in the iteration protocol**\n",
    "   "
   ]
  },
  {
   "cell_type": "code",
   "execution_count": 157,
   "metadata": {},
   "outputs": [
    {
     "name": "stdout",
     "output_type": "stream",
     "text": [
      "Count down from 6 \n",
      "\n",
      "Into while\n",
      "Into for 6\n",
      "newvalue is None\n",
      "n -= 1\n",
      "\n",
      "Into while\n",
      "Into for 5\n",
      "!!! Into send !!!\n",
      "newvalue is 3\n",
      "Reset n=5 to n=3\n",
      "\n",
      "Into while\n",
      "!!! Out send !!!\n",
      "newvalue is None\n",
      "n -= 1\n",
      "\n",
      "Into while\n",
      "Into for 2\n",
      "newvalue is None\n",
      "n -= 1\n",
      "\n",
      "Into while\n",
      "Into for 1\n",
      "newvalue is None\n",
      "n -= 1\n",
      "\n",
      "Into while\n",
      "Into for 0\n",
      "newvalue is None\n",
      "n -= 1\n",
      "\n"
     ]
    }
   ],
   "source": [
    "c = countdown(6)\n",
    "for n in c:\n",
    "    print(\"Into for %d\" % n)\n",
    "    if n == 5:\n",
    "        print(\"!!! Into send !!!\")\n",
    "        c.send(3)\n",
    "        print(\"!!! Out send !!!\")\n"
   ]
  },
  {
   "cell_type": "markdown",
   "metadata": {},
   "source": [
    "### 1.16. Keeping it Straight\n",
    "\n",
    "- Generators produce data for iteration\n",
    "\n",
    "\n",
    "- Coroutines are consumers of data\n",
    "\n",
    "\n",
    "- To keep your brain from exploding, you don't mix the two concepts together\n",
    "\n",
    "\n",
    "- Coroutines are not related to iteration\n",
    "\n",
    "\n",
    "- Note :There is a use of having yield produce a value in a coroutine, but it's not tied to iteration."
   ]
  }
 ],
 "metadata": {
  "kernelspec": {
   "display_name": "Python 3",
   "language": "python",
   "name": "python3"
  },
  "language_info": {
   "codemirror_mode": {
    "name": "ipython",
    "version": 3
   },
   "file_extension": ".py",
   "mimetype": "text/x-python",
   "name": "python",
   "nbconvert_exporter": "python",
   "pygments_lexer": "ipython3",
   "version": "3.5.2"
  }
 },
 "nbformat": 4,
 "nbformat_minor": 2
}
