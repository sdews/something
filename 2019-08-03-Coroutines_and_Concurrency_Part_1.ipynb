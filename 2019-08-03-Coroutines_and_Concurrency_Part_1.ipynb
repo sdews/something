{
 "cells": [
  {
   "cell_type": "markdown",
   "metadata": {},
   "source": [
    "# A Curious Course on Coroutines and Concurrency "
   ]
  },
  {
   "cell_type": "markdown",
   "metadata": {},
   "source": [
    "## Disclaimers\n",
    "\n",
    "- All content of this jupyter notebook are referred to David Beazley's [slide](http://117.128.6.29/cache/www.dabeaz.com/coroutines/Coroutines.pdf?ich_args2=526-03152400039188_616107d40934da0c48d67a98c79844af_10001002_9c896228dfc2f6d19f32518939a83798_460d1e2e54e6fd2148466980ccb734cb).\n",
    "\n",
    "\n",
    "- I made some revisions in order to run correctly.\n",
    "\n",
    "\n",
    "- Please run in Python3."
   ]
  },
  {
   "cell_type": "markdown",
   "metadata": {},
   "source": [
    "## Part １ Introduction to Generators and Coroutines"
   ]
  },
  {
   "cell_type": "markdown",
   "metadata": {},
   "source": [
    "### 1.1 Generators\n",
    "\n",
    "   - A generator is a function that produces a sequence of results instead of a single value\n",
    "\n",
    "   - Instead of returning a value, you generate a series of values (using the yield statement)\n",
    "\n",
    "   - Typically, you hook it up to a for-loop"
   ]
  },
  {
   "cell_type": "code",
   "execution_count": null,
   "metadata": {},
   "outputs": [],
   "source": [
    "def countdown(n):\n",
    "    while n > 0:\n",
    "        yield n\n",
    "        n -= 1"
   ]
  },
  {
   "cell_type": "code",
   "execution_count": null,
   "metadata": {},
   "outputs": [],
   "source": [
    "for i in countdown(5):\n",
    "    print(i)"
   ]
  },
  {
   "cell_type": "markdown",
   "metadata": {},
   "source": [
    "### 1.2 Generators\n",
    "　 \n",
    "   - Behavior is quite different than normal func\n",
    "   \n",
    "   - Calling a generator function creates an generator object. However, it does **not** start running the function."
   ]
  },
  {
   "cell_type": "code",
   "execution_count": null,
   "metadata": {},
   "outputs": [],
   "source": [
    "def countdown(n):\n",
    "    print(\"Counting down from\", n)\n",
    "    while n > 0:\n",
    "        yield n\n",
    "        n -= 1"
   ]
  },
  {
   "cell_type": "code",
   "execution_count": null,
   "metadata": {},
   "outputs": [],
   "source": [
    "# Note that no output was produced\n",
    "x = countdown(5)"
   ]
  },
  {
   "cell_type": "code",
   "execution_count": null,
   "metadata": {},
   "outputs": [],
   "source": [
    "x"
   ]
  },
  {
   "cell_type": "markdown",
   "metadata": {},
   "source": [
    "### 1.3. Generator Functions\n",
    "\n",
    "- The function only executes on next()\n",
    "\n",
    "- yield produces a value, but suspends the function\n",
    "\n",
    "- Function resumes on next call to next()\n",
    "\n",
    "- When the generator returns, iteration stops"
   ]
  },
  {
   "cell_type": "code",
   "execution_count": null,
   "metadata": {},
   "outputs": [],
   "source": [
    "x = countdown(3)"
   ]
  },
  {
   "cell_type": "code",
   "execution_count": null,
   "metadata": {},
   "outputs": [],
   "source": [
    "x"
   ]
  },
  {
   "cell_type": "code",
   "execution_count": null,
   "metadata": {},
   "outputs": [],
   "source": [
    "# Function starts executing here\n",
    "next(x)"
   ]
  },
  {
   "cell_type": "code",
   "execution_count": null,
   "metadata": {},
   "outputs": [],
   "source": [
    "next(x)"
   ]
  },
  {
   "cell_type": "code",
   "execution_count": null,
   "metadata": {},
   "outputs": [],
   "source": [
    "next(x)"
   ]
  },
  {
   "cell_type": "code",
   "execution_count": null,
   "metadata": {},
   "outputs": [],
   "source": [
    "next(x)"
   ]
  },
  {
   "cell_type": "markdown",
   "metadata": {},
   "source": [
    "### 1.4. A Practical Example"
   ]
  },
  {
   "cell_type": "code",
   "execution_count": null,
   "metadata": {},
   "outputs": [],
   "source": [
    "# A Python version of Unix 'tail -f'\n",
    "\n",
    "import time\n",
    "\n",
    "def follow(thefile):\n",
    "    # thefile.seek(0, 2)\n",
    "    while True:\n",
    "        line = thefile.readline()\n",
    "        if not line:\n",
    "            break\n",
    "            # time.sleep(0.1)\n",
    "            # continue\n",
    "        yield line"
   ]
  },
  {
   "cell_type": "code",
   "execution_count": null,
   "metadata": {},
   "outputs": [],
   "source": [
    "!echo \"It is summer day\\nI am studying Coroutine in Python\\nHi, ladies and gentlemen\" > access-log"
   ]
  },
  {
   "cell_type": "code",
   "execution_count": null,
   "metadata": {},
   "outputs": [],
   "source": [
    "!cat access-log"
   ]
  },
  {
   "cell_type": "code",
   "execution_count": null,
   "metadata": {},
   "outputs": [],
   "source": [
    "with open(\"access-log\", \"r\") as f:\n",
    "    for line in follow(f):\n",
    "        print(line)"
   ]
  },
  {
   "cell_type": "markdown",
   "metadata": {},
   "source": [
    "### 1.5. Generators as Pipelines\n",
    "\n",
    "- One of the most powerful applications of generators is setting up processing pipelines\n",
    "\n",
    "\n",
    "- Similar to shell pipes in Unix\n",
    "  \n",
    "  input sequeence --> generator1 --> generator2 --> generator3\n",
    "  --> for x in s:\n",
    "  \n",
    "  \n",
    "- Idea: You can stack a series of generator functions together into a pipe and pull items through it with a for-loop\n",
    "  "
   ]
  },
  {
   "cell_type": "code",
   "execution_count": null,
   "metadata": {},
   "outputs": [],
   "source": [
    "# A Pipeline Example\n",
    "# Print all server log entries containing 'Python'\n",
    "\n",
    "def grep(pattern, lines):\n",
    "    for line in lines:\n",
    "        if pattern in line:\n",
    "            yield line\n",
    "\n",
    "# Set up a processing pipe: tail -f | grep python\n",
    "with open(\"access-log\", \"r\") as logfile:\n",
    "    loglines = follow(logfile)\n",
    "    greplines = grep(\"Python\", loglines)\n",
    "    for line in greplines:\n",
    "        print(line)"
   ]
  },
  {
   "cell_type": "markdown",
   "metadata": {},
   "source": [
    "### 1.6. Yield as an Expression \n",
    "\n",
    "- In Python 2.5, a slight modification to the yield　statement was introduced (PEP-342)\n",
    "\n",
    "\n",
    "- You could now use yield as an *expression*\n",
    "\n",
    "\n",
    "- For example, on the right side of an assignment"
   ]
  },
  {
   "cell_type": "code",
   "execution_count": null,
   "metadata": {},
   "outputs": [],
   "source": [
    "def grep(pattern):\n",
    "    print(\"Looking for %s\" % pattern)\n",
    "    while True:\n",
    "        line = (yield)\n",
    "        if pattern in line:\n",
    "            print(line)"
   ]
  },
  {
   "cell_type": "markdown",
   "metadata": {},
   "source": [
    "### 1.7. Coroutines\n",
    "\n",
    "\n",
    "- If If you use yield more generally, you get a coroutine\n",
    "\n",
    "\n",
    "- These do more than just generate values\n",
    "\n",
    "\n",
    "- Instead, functions can consume values **sent** to it\n",
    "\n",
    "\n",
    "- Sent values are returned by (yield)"
   ]
  },
  {
   "cell_type": "code",
   "execution_count": null,
   "metadata": {},
   "outputs": [],
   "source": [
    "g = grep(\"python\")  # Notice that no output was produced"
   ]
  },
  {
   "cell_type": "code",
   "execution_count": null,
   "metadata": {},
   "outputs": [],
   "source": [
    "g"
   ]
  },
  {
   "cell_type": "code",
   "execution_count": null,
   "metadata": {},
   "outputs": [],
   "source": [
    "next(g)  # On first operation, coroutine starts running"
   ]
  },
  {
   "cell_type": "code",
   "execution_count": null,
   "metadata": {},
   "outputs": [],
   "source": [
    "g.send(\"Hi, I am Summer\")"
   ]
  },
  {
   "cell_type": "code",
   "execution_count": null,
   "metadata": {},
   "outputs": [],
   "source": [
    "g.send(\"I am studying python now\")"
   ]
  },
  {
   "cell_type": "markdown",
   "metadata": {},
   "source": [
    "### 1.8. Coroutine Execution\n",
    "\n",
    "- Execution is the same ss for a generator\n",
    "\n",
    "\n",
    "- When you call a coroutine, nothing happens\n",
    "\n",
    "\n",
    "- They only run in response to next() and send() methods\n",
    "\n",
    "```\n",
    "# Notice that no output was produced\n",
    ">> g = grep(\"python\")\n",
    "#  On first operation, coroutine starts running\n",
    ">> next(g)\n",
    "Looking for python\n",
    "```"
   ]
  },
  {
   "cell_type": "markdown",
   "metadata": {},
   "source": [
    "### 1.9. Coroutine Priming\n",
    "\n",
    "- All coroutines must be \"primed\" by first calling .next() (or send(None))\n",
    "\n",
    "\n",
    "- This advances execution to the location of the first yield expression.\n",
    "\n",
    "```\n",
    "def grep(pattern):\n",
    "    print(\"Looking for %s\" % pattern)\n",
    "    while True:\n",
    "        # next() advances the coroutine to \n",
    "        # the first yield expression (yield) \n",
    "        line = (yield)  \n",
    "        if pattern in line:\n",
    "            print(line)\n",
    "```\n",
    "\n",
    "- At this point, it's ready to receive a value"
   ]
  },
  {
   "cell_type": "markdown",
   "metadata": {},
   "source": [
    "### 1.10. Using a Decorator\n",
    "\n",
    "\n",
    "- Remembering to call .next() is easy to forget\n",
    "\n",
    "\n",
    "- Solved by wrapping coroutines with a decorator"
   ]
  },
  {
   "cell_type": "code",
   "execution_count": null,
   "metadata": {},
   "outputs": [],
   "source": [
    "def coroutine(func):\n",
    "    def start(*args, **kwargs):\n",
    "        cr = func(*args, **kwargs)\n",
    "        next(cr)\n",
    "        return cr\n",
    "    return start\n",
    "\n",
    "@coroutine\n",
    "def grep(pattern):\n",
    "    print(\"Looking for %s\" % pattern)\n",
    "    while True:\n",
    "        line = (yield)\n",
    "        if pattern in line:\n",
    "            print(line)"
   ]
  },
  {
   "cell_type": "code",
   "execution_count": null,
   "metadata": {},
   "outputs": [],
   "source": [
    "g = grep(\"python\")"
   ]
  },
  {
   "cell_type": "code",
   "execution_count": null,
   "metadata": {},
   "outputs": [],
   "source": [
    "g.send(\"Hi, I am Summer\")"
   ]
  },
  {
   "cell_type": "code",
   "execution_count": null,
   "metadata": {},
   "outputs": [],
   "source": [
    "g.send(\"I am studing coroutine in python\")"
   ]
  },
  {
   "cell_type": "markdown",
   "metadata": {},
   "source": [
    "### 1.11. Closing a Coroutine\n",
    "\n",
    "- A coroutine might run indefinitely\n",
    "\n",
    "\n",
    "- Use .close() to shut it down\n",
    "\n",
    "\n",
    "- Note: Garbage collection also calls close()"
   ]
  },
  {
   "cell_type": "code",
   "execution_count": null,
   "metadata": {},
   "outputs": [],
   "source": [
    "g = grep(\"python\")"
   ]
  },
  {
   "cell_type": "code",
   "execution_count": null,
   "metadata": {},
   "outputs": [],
   "source": [
    "g.send(\"Hi\")"
   ]
  },
  {
   "cell_type": "code",
   "execution_count": null,
   "metadata": {},
   "outputs": [],
   "source": [
    "g.send(\"coroutine in python\")"
   ]
  },
  {
   "cell_type": "code",
   "execution_count": null,
   "metadata": {},
   "outputs": [],
   "source": [
    "g.close()"
   ]
  },
  {
   "cell_type": "code",
   "execution_count": null,
   "metadata": {},
   "outputs": [],
   "source": [
    "g"
   ]
  },
  {
   "cell_type": "code",
   "execution_count": null,
   "metadata": {},
   "outputs": [],
   "source": [
    "g.send(\"hi\")"
   ]
  },
  {
   "cell_type": "markdown",
   "metadata": {},
   "source": [
    "### 1.12. Catching close()\n",
    "\n",
    "\n",
    "- close() can be caught (GeneratorExit)\n",
    "\n",
    "\n",
    "- You cannot ignore this exception\n",
    "\n",
    "\n",
    "- Only legal action is to clean up and return"
   ]
  },
  {
   "cell_type": "code",
   "execution_count": null,
   "metadata": {},
   "outputs": [],
   "source": [
    "@coroutine\n",
    "def grep(pattern):\n",
    "    print(\"Looking for %s\" % pattern)\n",
    "    try:\n",
    "        while True:\n",
    "            line = (yield)\n",
    "            if pattern in line:\n",
    "                print(line)\n",
    "    except GeneratorExit:\n",
    "        print(\"Going away. Goodbye\")"
   ]
  },
  {
   "cell_type": "code",
   "execution_count": null,
   "metadata": {},
   "outputs": [],
   "source": [
    "g = grep(\"python\")"
   ]
  },
  {
   "cell_type": "code",
   "execution_count": null,
   "metadata": {},
   "outputs": [],
   "source": [
    "g.send(\"python\")"
   ]
  },
  {
   "cell_type": "code",
   "execution_count": null,
   "metadata": {},
   "outputs": [],
   "source": [
    "g.close()"
   ]
  },
  {
   "cell_type": "markdown",
   "metadata": {},
   "source": [
    "### 1.13. Throwing an Exception\n",
    "\n",
    "- Exceptions can be thrown inside a coroutine\n",
    "\n",
    "\n",
    "- Exception originates at the yield expression\n",
    "\n",
    "\n",
    "- Can be caught / handled in the usual ways"
   ]
  },
  {
   "cell_type": "code",
   "execution_count": null,
   "metadata": {},
   "outputs": [],
   "source": [
    "g = grep(\"python\")"
   ]
  },
  {
   "cell_type": "code",
   "execution_count": null,
   "metadata": {},
   "outputs": [],
   "source": [
    "g.send(\"python rocks\")"
   ]
  },
  {
   "cell_type": "code",
   "execution_count": null,
   "metadata": {},
   "outputs": [],
   "source": [
    "g.throw(RuntimeError, \"You are hosed\")"
   ]
  },
  {
   "cell_type": "markdown",
   "metadata": {},
   "source": [
    "### 1.14. **Interlude**\n",
    "\n",
    "- Despite some similarities, Generators and coroutines are basically two different concepts\n",
    "\n",
    "\n",
    "- Generators produce values\n",
    "\n",
    "\n",
    "- Coroutines tend to consume values\n",
    "\n",
    "\n",
    "- It is easy to get sidetracked because methods meant for coroutines are sometimes described as a way to tweak generators that are in the process of producing an iteration pattern (i.e., resetting its value). This is mostly bogus."
   ]
  },
  {
   "cell_type": "markdown",
   "metadata": {},
   "source": [
    "### 1.15. A Bogus Example\n",
    "\n",
    "\n",
    "- A \"generator\" that produces **and** receives values"
   ]
  },
  {
   "cell_type": "code",
   "execution_count": 4,
   "metadata": {},
   "outputs": [],
   "source": [
    "def countdown(n):\n",
    "    print(\"Count down from %d \\n\" % n)\n",
    "    while n >= 0:\n",
    "        print(\"Before yield, the generator will be suspended\")\n",
    "        newvalue = (yield n)\n",
    "        print(\"After yield, the generator is resumed\")\n",
    "        print(\"newvalue is\", newvalue)\n",
    "        # if a new value got sent in, reset n with it\n",
    "        if newvalue is not None:\n",
    "            print(\"Reset n=%d to n=%d\\n\" % (n, newvalue))\n",
    "            n = newvalue\n",
    "            # print(n)\n",
    "        else:\n",
    "            print(\"n -= 1\\n\")\n",
    "            n -= 1"
   ]
  },
  {
   "cell_type": "markdown",
   "metadata": {},
   "source": [
    "- It runs, but it's \"flaky\" and hard to understand\n",
    "  \n",
    "  **Notice how a value got \"lost\" in the iteration protocol**\n",
    "  \n",
    "\n",
    "- About [**Yield expressions**](https://docs.python.org/3.6/reference/expressions.html#yield-expressions)\n",
    "\n",
    "```\n",
    "    yield_atom       ::=  \"(\" yield_expression \")\"\n",
    "    yield_expression ::=  \"yield\" [expression_list | \"from\" expression]\n",
    "```\n",
    "> The yield expression is used when defining a generator function or an asynchronous generator function and thus can only be used in the body of a function definition. Using a yield expression in a function’s body causes that function to be a generator, and using it in an async def function’s body causes that coroutine function to be an asynchronous generator. \n",
    "\n",
    "> Generator functions are described below, while asynchronous generator functions are described separately in section Asynchronous generator functions.\n",
    "\n",
    "> When a generator function is called, it returns an iterator known as a generator. That generator then controls the execution of the generator function. *The execution starts when one of the generator’s methods is called. At that time, the execution proceeds to the first yield expression, where it is suspended again, returning the value of **expression_list** to the generator’s caller*. By suspended, we mean that all local state is retained, including the current bindings of local variables, the instruction pointer, the internal evaluation stack, and the state of any exception handling. When the execution is resumed by calling one of the generator’s methods, the function can proceed exactly as if the yield expression were just another external call. The value of the yield expression after resuming depends on the method which resumed the execution. If \\__next\\__() is used (typically via either a for or the next() builtin) then the result is **None**. (Note that the result is **None** means that the current yield expression always evaluates to **None**.) Otherwise, if send() is used, then the result will be the value passed in to that method.\n",
    "\n",
    "> All of this makes generator functions quite similar to coroutines; they yield multiple times, they have more than one entry point and their execution can be suspended. The only difference is that a generator function cannot control where the execution should continue after it yields; the control is always transferred to the generator’s caller.\n",
    "\n",
    "\n",
    "- About [**generator.\\__next\\__()**](https://docs.python.org/3.6/reference/expressions.html#generator.__next__)\n",
    "\n",
    "> Starts the execution of a generator function or resumes it at the last executed yield expression. When a generator function is resumed with a \\__next\\__() method, the current yield expression always evaluates to **None**. (Note that it does not return **None**.) The execution then continues to the next yield expression, where the generator is suspended again, and the value of the **expression_list** is returned to \\__next\\__()’s caller. If the generator exits without yielding another value, a StopIteration exception is raised.\n",
    "\n",
    "> This method is normally called implicitly, e.g. by a for loop, or by the built-in next() function.\n",
    "\n",
    "\n",
    "- About [**generator.send(*value*)**](https://docs.python.org/3.6/reference/expressions.html#generator.send)\n",
    "\n",
    "> Resumes the execution and “sends” a value into the generator function. The *value* argument becomes the result of the current yield expression. The send() method returns the next value yielded by the generator, or raises StopIteration if the generator exits without yielding another value. When send() is called to start the generator, it must be called with None as the argument, because there is no yield expression that could receive the value."
   ]
  },
  {
   "cell_type": "code",
   "execution_count": 6,
   "metadata": {},
   "outputs": [
    {
     "name": "stdout",
     "output_type": "stream",
     "text": [
      "Count down from 6 \n",
      "\n",
      "Before yield, the generator will be suspended\n",
      "Into for 6\n",
      "\n",
      "After yield, the generator is resumed\n",
      "newvalue is None\n",
      "n -= 1\n",
      "\n",
      "Before yield, the generator will be suspended\n",
      "Into for 5\n",
      "\n",
      "!!! Into send !!!\n",
      "After yield, the generator is resumed\n",
      "newvalue is 3\n",
      "Reset n=5 to n=3\n",
      "\n",
      "Before yield, the generator will be suspended\n",
      "The value c.send(3) returned is 3\n",
      "!!! Out send !!!\n",
      "\n",
      "After yield, the generator is resumed\n",
      "newvalue is None\n",
      "n -= 1\n",
      "\n",
      "Before yield, the generator will be suspended\n",
      "Into for 2\n",
      "\n",
      "After yield, the generator is resumed\n",
      "newvalue is None\n",
      "n -= 1\n",
      "\n",
      "Before yield, the generator will be suspended\n",
      "Into for 1\n",
      "\n",
      "After yield, the generator is resumed\n",
      "newvalue is None\n",
      "n -= 1\n",
      "\n",
      "Before yield, the generator will be suspended\n",
      "Into for 0\n",
      "\n",
      "After yield, the generator is resumed\n",
      "newvalue is None\n",
      "n -= 1\n",
      "\n"
     ]
    }
   ],
   "source": [
    "c = countdown(6)\n",
    "for n in c:\n",
    "    print(\"Into for %d\\n\" % n)\n",
    "    if n == 5:\n",
    "        print(\"!!! Into send !!!\")\n",
    "        value_return = c.send(3)\n",
    "        print(\"The value c.send(3) returned is {}\".format(value_return))\n",
    "        print(\"!!! Out send !!!\\n\")\n"
   ]
  },
  {
   "cell_type": "markdown",
   "metadata": {},
   "source": [
    "### 1.16. Keeping it Straight\n",
    "\n",
    "- Generators produce data for iteration\n",
    "\n",
    "\n",
    "- Coroutines are consumers of data\n",
    "\n",
    "\n",
    "- To keep your brain from exploding, you don't mix the two concepts together\n",
    "\n",
    "\n",
    "- Coroutines are not related to iteration\n",
    "\n",
    "\n",
    "- Note :There is a use of having yield produce a value in a coroutine, but it's not tied to iteration."
   ]
  },
  {
   "cell_type": "code",
   "execution_count": null,
   "metadata": {},
   "outputs": [],
   "source": []
  }
 ],
 "metadata": {
  "kernelspec": {
   "display_name": "Python 3",
   "language": "python",
   "name": "python3"
  },
  "language_info": {
   "codemirror_mode": {
    "name": "ipython",
    "version": 3
   },
   "file_extension": ".py",
   "mimetype": "text/x-python",
   "name": "python",
   "nbconvert_exporter": "python",
   "pygments_lexer": "ipython3",
   "version": "3.5.2"
  }
 },
 "nbformat": 4,
 "nbformat_minor": 2
}
